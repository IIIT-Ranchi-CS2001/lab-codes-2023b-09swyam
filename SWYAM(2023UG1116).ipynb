{
 "cells": [
  {
   "cell_type": "markdown",
   "metadata": {},
   "source": [
    "SWYAM GUPTA (2020UG1116) - SET(E) - SEC (B)"
   ]
  },
  {
   "cell_type": "code",
   "execution_count": 1,
   "metadata": {},
   "outputs": [],
   "source": [
    "import pandas as pa\n",
    "import numpy as np"
   ]
  },
  {
   "cell_type": "code",
   "execution_count": 2,
   "metadata": {},
   "outputs": [],
   "source": [
    "data = pa.read_csv(\"AQI_Data.csv\")"
   ]
  },
  {
   "cell_type": "code",
   "execution_count": 3,
   "metadata": {},
   "outputs": [
    {
     "name": "stdout",
     "output_type": "stream",
     "text": [
      "First 8 rows of the dataset\n",
      "    City        Date  AQI  PM2.5  PM10        NO2        CO          O3  \\\n",
      "0  Delhi  2024-01-01  152    153   151  26.509131  1.581413  123.401530   \n",
      "1  Delhi  2024-01-02  264    288   268  87.955853  1.242119  144.533790   \n",
      "2  Delhi  2024-01-03  307    344   357  94.469744  0.101480  198.520196   \n",
      "3  Delhi  2024-01-04  363    334   347  12.075618  1.097072   85.973585   \n",
      "4  Delhi  2024-01-05  237    266   250  51.046299  1.591834   47.938019   \n",
      "5  Delhi  2024-01-06  369    321   327  64.679037  0.423996   22.359803   \n",
      "6  Delhi  2024-01-07  365    328   347  44.687485  0.130336   53.869827   \n",
      "7  Delhi  2024-01-08  493    513   526  54.565922  0.165338  182.770876   \n",
      "\n",
      "         SO2  \n",
      "0  25.062474  \n",
      "1   5.926302  \n",
      "2  32.786668  \n",
      "3   7.099955  \n",
      "4  28.140550  \n",
      "5  47.699849  \n",
      "6  15.846146  \n",
      "7  16.645099  \n"
     ]
    }
   ],
   "source": [
    "# a) display the first 8 rows\n",
    "print(\"First 8 rows of the dataset\")\n",
    "print(data.head(8))"
   ]
  },
  {
   "cell_type": "code",
   "execution_count": 4,
   "metadata": {},
   "outputs": [
    {
     "name": "stdout",
     "output_type": "stream",
     "text": [
      "Last 5 rows of the dataset\n",
      "      City        Date  AQI  PM2.5  PM10        NO2        CO          O3  \\\n",
      "2557  Pune  2024-12-27  419    448   462  26.701714  1.553582   86.973954   \n",
      "2558  Pune  2024-12-28  252    202   182  19.920962  1.599821   41.939484   \n",
      "2559  Pune  2024-12-29  365    414   410  80.815702  1.919950   39.982167   \n",
      "2560  Pune  2024-12-30  253    269   285  66.231614  0.611800   63.966705   \n",
      "2561  Pune  2024-12-31   95    140   117  99.505459  0.122817  112.774765   \n",
      "\n",
      "            SO2  \n",
      "2557  44.263423  \n",
      "2558  20.545087  \n",
      "2559  22.646297  \n",
      "2560  10.580135  \n",
      "2561  30.814997  \n"
     ]
    }
   ],
   "source": [
    "# b) display the last 5 rows\n",
    "print(\"Last 5 rows of the dataset\")\n",
    "print(data.tail(5))"
   ]
  },
  {
   "cell_type": "code",
   "execution_count": 5,
   "metadata": {},
   "outputs": [
    {
     "name": "stdout",
     "output_type": "stream",
     "text": [
      "The number of not null values in each column are :\n",
      "\n",
      "City     2562\n",
      "Date     2562\n",
      "AQI      2562\n",
      "PM2.5    2562\n",
      "PM10     2562\n",
      "NO2      2562\n",
      "CO       2562\n",
      "O3       2562\n",
      "SO2      2562\n",
      "dtype: int64\n",
      "\n",
      "The datatype of each column are :\n",
      "\n",
      "City      object\n",
      "Date      object\n",
      "AQI        int64\n",
      "PM2.5      int64\n",
      "PM10       int64\n",
      "NO2      float64\n",
      "CO       float64\n",
      "O3       float64\n",
      "SO2      float64\n",
      "dtype: object\n"
     ]
    }
   ],
   "source": [
    "#c) Show the dtype and number of non-null values in each column\n",
    "print(\"The number of not null values in each column are :\\n\")\n",
    "print(data.notnull().sum())\n",
    "print()\n",
    "print(\"The datatype of each column are :\\n\")\n",
    "print(data.dtypes)"
   ]
  },
  {
   "cell_type": "code",
   "execution_count": 6,
   "metadata": {},
   "outputs": [
    {
     "name": "stdout",
     "output_type": "stream",
     "text": [
      "Mean AQI :  277.6350507416081\n",
      "Max PM2.5 :  543\n",
      "Min PM10 :  -26\n"
     ]
    },
    {
     "name": "stderr",
     "output_type": "stream",
     "text": [
      "C:\\Users\\09swy\\AppData\\Local\\Temp\\ipykernel_8816\\2272235264.py:2: FutureWarning: The provided callable <function mean at 0x0000015E58ED3060> is currently using Series.mean. In a future version of pandas, the provided callable will be used directly. To keep current behavior pass the string \"mean\" instead.\n",
      "  print(\"Mean AQI : \",data[\"AQI\"].agg(np.mean))\n",
      "C:\\Users\\09swy\\AppData\\Local\\Temp\\ipykernel_8816\\2272235264.py:3: FutureWarning: The provided callable <function max at 0x0000015E58ED2660> is currently using Series.max. In a future version of pandas, the provided callable will be used directly. To keep current behavior pass the string \"max\" instead.\n",
      "  print(\"Max PM2.5 : \",data[\"PM2.5\"].agg(np.max))\n",
      "C:\\Users\\09swy\\AppData\\Local\\Temp\\ipykernel_8816\\2272235264.py:4: FutureWarning: The provided callable <function min at 0x0000015E58ED27A0> is currently using Series.min. In a future version of pandas, the provided callable will be used directly. To keep current behavior pass the string \"min\" instead.\n",
      "  print(\"Min PM10 : \",data[\"PM10\"].agg(np.min))\n"
     ]
    }
   ],
   "source": [
    "#d) Use NumPy to compute the mean AQI , max PM2.5 and min PM10 values for each\n",
    "print(\"Mean AQI : \",data[\"AQI\"].agg(np.mean))\n",
    "print(\"Max PM2.5 : \",data[\"PM2.5\"].agg(np.max))\n",
    "print(\"Min PM10 : \",data[\"PM10\"].agg(np.min))"
   ]
  },
  {
   "cell_type": "code",
   "execution_count": 7,
   "metadata": {},
   "outputs": [
    {
     "name": "stdout",
     "output_type": "stream",
     "text": [
      "             mean_AQI  max_PM25\n",
      "City                           \n",
      "Mumbai     287.797814       519\n",
      "Hyderabad  280.355191       543\n",
      "Bangalore  279.543716       527\n",
      "Delhi      279.153005       539\n",
      "Pune       276.379781       532\n",
      "Chennai    274.314208       530\n",
      "Kolkata    265.901639       535\n"
     ]
    }
   ],
   "source": [
    "# SET - 5\n",
    "#5) Group the dataset by City.For each group calculate:\n",
    "#   a) The mean AQI\n",
    "#   b) The maximum value of PM2.5\n",
    "#Sort the resulting data by the average AQI in desending order.\n",
    "\n",
    "result = data.groupby('City').agg(\n",
    "    mean_AQI=('AQI', 'mean'),\n",
    "    max_PM25=('PM2.5', 'max')\n",
    ")\n",
    "print(result.sort_values(by='mean_AQI', ascending=False))"
   ]
  }
 ],
 "metadata": {
  "kernelspec": {
   "display_name": "Python 3",
   "language": "python",
   "name": "python3"
  },
  "language_info": {
   "codemirror_mode": {
    "name": "ipython",
    "version": 3
   },
   "file_extension": ".py",
   "mimetype": "text/x-python",
   "name": "python",
   "nbconvert_exporter": "python",
   "pygments_lexer": "ipython3",
   "version": "3.12.7"
  }
 },
 "nbformat": 4,
 "nbformat_minor": 2
}
